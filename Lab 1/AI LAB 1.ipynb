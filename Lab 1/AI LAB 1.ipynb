{
 "cells": [
  {
   "cell_type": "code",
   "execution_count": 32,
   "id": "593b755e",
   "metadata": {},
   "outputs": [],
   "source": [
    "import pandas as pd\n",
    "import numpy as np\n",
    "import math, scipy\n",
    "import datetime, sklearn\n",
    "import seaborn as sns\n",
    "from sklearn.base import BaseEstimator, ClassifierMixin\n",
    "import matplotlib.pyplot as plt\n",
    "from sympy import *\n",
    "from sklearn import naive_bayes\n",
    "from sklearn.feature_selection import VarianceThreshold\n",
    "from sklearn.pipeline import Pipeline\n",
    "from sklearn.metrics import confusion_matrix, accuracy_score, recall_score, precision_score\n",
    "from sklearn.model_selection import GridSearchCV\n",
    "from sklearn.preprocessing import Normalizer, StandardScaler, MinMaxScaler, PowerTransformer, MaxAbsScaler, LabelEncoder\n",
    "np.warnings.filterwarnings('ignore')"
   ]
  },
  {
   "cell_type": "markdown",
   "id": "50ffa4e5",
   "metadata": {},
   "source": [
    "Читаем наши данные и проводим предварительную обработку на основе выводов нулевой лабораторной"
   ]
  },
  {
   "cell_type": "code",
   "execution_count": 33,
   "id": "69e4bb1b",
   "metadata": {},
   "outputs": [
    {
     "data": {
      "text/html": [
       "<div>\n",
       "<style scoped>\n",
       "    .dataframe tbody tr th:only-of-type {\n",
       "        vertical-align: middle;\n",
       "    }\n",
       "\n",
       "    .dataframe tbody tr th {\n",
       "        vertical-align: top;\n",
       "    }\n",
       "\n",
       "    .dataframe thead th {\n",
       "        text-align: right;\n",
       "    }\n",
       "</style>\n",
       "<table border=\"1\" class=\"dataframe\">\n",
       "  <thead>\n",
       "    <tr style=\"text-align: right;\">\n",
       "      <th></th>\n",
       "      <th>Radius(R/Ro)</th>\n",
       "      <th>Absolute magnitude(Mv)</th>\n",
       "      <th>Star type</th>\n",
       "    </tr>\n",
       "  </thead>\n",
       "  <tbody>\n",
       "    <tr>\n",
       "      <th>0</th>\n",
       "      <td>-1.771957</td>\n",
       "      <td>16.12</td>\n",
       "      <td>0</td>\n",
       "    </tr>\n",
       "    <tr>\n",
       "      <th>188</th>\n",
       "      <td>-2.189256</td>\n",
       "      <td>19.45</td>\n",
       "      <td>0</td>\n",
       "    </tr>\n",
       "    <tr>\n",
       "      <th>187</th>\n",
       "      <td>-2.304587</td>\n",
       "      <td>16.67</td>\n",
       "      <td>0</td>\n",
       "    </tr>\n",
       "    <tr>\n",
       "      <th>185</th>\n",
       "      <td>-2.329956</td>\n",
       "      <td>16.93</td>\n",
       "      <td>0</td>\n",
       "    </tr>\n",
       "    <tr>\n",
       "      <th>184</th>\n",
       "      <td>-2.560061</td>\n",
       "      <td>17.08</td>\n",
       "      <td>0</td>\n",
       "    </tr>\n",
       "  </tbody>\n",
       "</table>\n",
       "</div>"
      ],
      "text/plain": [
       "     Radius(R/Ro)  Absolute magnitude(Mv)  Star type\n",
       "0       -1.771957                   16.12          0\n",
       "188     -2.189256                   19.45          0\n",
       "187     -2.304587                   16.67          0\n",
       "185     -2.329956                   16.93          0\n",
       "184     -2.560061                   17.08          0"
      ]
     },
     "execution_count": 33,
     "metadata": {},
     "output_type": "execute_result"
    }
   ],
   "source": [
    "A = pd.read_csv('stars.csv', engine='python', sep=',')\n",
    "Table = A\n",
    "Table = Table[['Radius(R/Ro)', 'Absolute magnitude(Mv)', 'Star type']]\n",
    "Table = Table.apply(lambda x : np.log(x) if x.name == 'Radius(R/Ro)' else x)\n",
    "Table = Table.sort_values('Star type')\n",
    "Table.head()"
   ]
  },
  {
   "cell_type": "code",
   "execution_count": 34,
   "id": "9a9c42bb",
   "metadata": {},
   "outputs": [],
   "source": [
    "def Plot(Table, x, y, c = 6, f = lambda x : x):\n",
    "    fig = plt.figure(figsize=(8, 8))\n",
    "    ax = fig.add_subplot()\n",
    "\n",
    "    for a, b in [(i, i) for i in (c if type(c) is list else range(c))]:\n",
    "        S = Table[(Table['Star type'] <= b) & (Table['Star type'] >= a)]\n",
    "        ax.scatter(S[x], f(S[y]), label=f\"{a}\")\n",
    "        \n",
    "    plt.legend(loc='upper right')\n",
    "    plt.show()\n",
    "    \n",
    "def PlotAll(Table, x, y, c = 6, f = lambda x : x, function = lambda x, y : x, eps = 0.025):\n",
    "    fig = plt.figure(figsize=(8, 8))\n",
    "    ax = fig.add_subplot()\n",
    "\n",
    "    for a, b in [(i, i) for i in (c if type(c) is list else range(c))]:\n",
    "        S = Table[(Table['Star type'] <= b) & (Table['Star type'] >= a)]\n",
    "        ax.scatter(S[x], f(S[y]), label=f\"{a}\")\n",
    "        \n",
    "    xrange = np.arange(Table[x].min(), Table[x].max(), eps)\n",
    "    yrange = np.arange(f(Table[y]).min(), f(Table[y]).max(), eps)\n",
    "    X, Y = np.meshgrid(xrange,yrange)\n",
    "\n",
    "    F = function(X, Y)\n",
    "\n",
    "    ax.contour(X, Y, F, [0])\n",
    "    \n",
    "    plt.legend(loc='upper right')\n",
    "    plt.show()\n",
    "    \n",
    "def Params(slov) -> pd.DataFrame:\n",
    "    return pd.DataFrame({'parameters' : grid.best_params_.values()}, index=[*grid.best_params_.keys()])\n",
    "\n",
    "def MetricsEstimates(pipe : Pipeline, Test_data, Test_labels, K = None) -> None:\n",
    "    y_pred = pipe.predict(Test_data)\n",
    "    y_true = Test_labels\n",
    "    \n",
    "    print(f\"Accuracy: {accuracy_score(y_true, y_pred)}\")\n",
    "    print(f\"Recall: {recall_score(y_true, y_pred, average='macro')}\")\n",
    "    print(f\"Precision: {precision_score(y_true, y_pred, average='macro')}\")\n",
    "    \n",
    "    m = confusion_matrix(y_true, y_pred, labels = [0, 1])\n",
    "    plt.matshow(m)\n",
    "    plt.colorbar()\n",
    "    plt.show()\n",
    "    \n",
    "    if K == 1 or K == 2:\n",
    "        weights = pipe['classifier'].W\n",
    "        ss = StandardScaler()\n",
    "        vt = VarianceThreshold()\n",
    "        t_data = np.c_[vt.fit_transform(ss.fit_transform(Test_data)), Test_labels]\n",
    "        t_data = pd.DataFrame(t_data, columns = ['Absolute magnitude(Mv)', 'Radius(R/Ro)', 'Star type'])\n",
    "        PlotAll(t_data, 'Absolute magnitude(Mv)', 'Radius(R/Ro)', \n",
    "                function = lambda x, y : weights[0] + weights[1] * x + weights[2] * y)\n",
    "    elif K == 3:\n",
    "        weights = np.c_[pipe['classifier'].intercept_, pipe['classifier'].coef_][0]\n",
    "        ss = StandardScaler()\n",
    "        vt = VarianceThreshold()\n",
    "        t_data = np.c_[vt.fit_transform(ss.fit_transform(Test_data)), Test_labels]\n",
    "        t_data = pd.DataFrame(t_data, columns = ['Absolute magnitude(Mv)', 'Radius(R/Ro)', 'Star type'])\n",
    "        PlotAll(t_data, 'Absolute magnitude(Mv)', 'Radius(R/Ro)', \n",
    "                function = lambda x, y : weights[0] + weights[1] * x + weights[2] * y)"
   ]
  },
  {
   "cell_type": "code",
   "execution_count": 35,
   "id": "b4c7718b",
   "metadata": {},
   "outputs": [
    {
     "data": {
      "image/png": "[encoded data removed]",
      "text/plain": [
       "<Figure size 576x576 with 1 Axes>"
      ]
     },
     "metadata": {
      "needs_background": "light"
     },
     "output_type": "display_data"
    }
   ],
   "source": [
    "Train = Table.iloc[::2, :]\n",
    "Test = Table.iloc[1::2, :]\n",
    "\n",
    "def prepare(Table):\n",
    "    Res = Table.copy()\n",
    "    Res['Star type'] = Res['Star type'].apply(lambda x : 0 if x <= 2 else 1)\n",
    "    return Res\n",
    "\n",
    "Train = prepare(Train)\n",
    "Test = prepare(Test)\n",
    "\n",
    "Plot(Train, 'Absolute magnitude(Mv)', 'Radius(R/Ro)', c = 2)"
   ]
  },
  {
   "cell_type": "markdown",
   "id": "ef52628b",
   "metadata": {},
   "source": [
    "Разбиваем выборку на тренировочную и обучающую"
   ]
  },
  {
   "cell_type": "code",
   "execution_count": 36,
   "id": "8d4f7b3a",
   "metadata": {},
   "outputs": [],
   "source": [
    "Train_data = np.array(Train[['Absolute magnitude(Mv)', 'Radius(R/Ro)']])\n",
    "Train_labels = np.array(Train['Star type'])\n",
    "Test_data = np.array(Test[['Absolute magnitude(Mv)', 'Radius(R/Ro)']])\n",
    "Test_labels = np.array(Test['Star type'])"
   ]
  },
  {
   "cell_type": "markdown",
   "id": "c04e8a80",
   "metadata": {},
   "source": [
    "### Логистическая регрессия"
   ]
  },
  {
   "cell_type": "code",
   "execution_count": 37,
   "id": "43bb5f28",
   "metadata": {},
   "outputs": [],
   "source": [
    "class LogitModel(BaseEstimator, ClassifierMixin):\n",
    "    \n",
    "    def __sigm(self, x):\n",
    "        x = np.clip(x, -10, 10)\n",
    "        return 1.0 / (1.0 + np.exp(-x))\n",
    "    \n",
    "    def __init__(self, a = 2, **kwargs):\n",
    "        self.W = np.random.normal(0, 1, a + 1)\n",
    "        self.epoch = kwargs.get('epoch', 20)\n",
    "        self.train_rate = kwargs.get('train_rate', 0.1)\n",
    "        self.batch = kwargs.get('batch', 4)\n",
    "        \n",
    "    def coef(self):\n",
    "        return self.W\n",
    "    \n",
    "    def predict(self, p):\n",
    "        res = self.predict_proba(p)\n",
    "        return np.where(res >= 0.5, 1, 0)\n",
    "    \n",
    "    def predict_proba(self, p):\n",
    "        n, m = p.shape\n",
    "        p = np.c_[np.ones(n), p]\n",
    "        return self.__sigm(p.dot(self.W))\n",
    "        \n",
    "    def fit(self, Train_data, Train_labels):\n",
    "    \n",
    "        n, m = Train_data.shape\n",
    "        Train = np.c_[np.ones(n), Train_data]\n",
    "    \n",
    "        for i in range(self.epoch):\n",
    "            for j in range(0, len(Train), self.batch):\n",
    "                p = Train[j : j + self.batch]\n",
    "                y = Train_labels[j : j + self.batch]\n",
    "                f_p = self.__sigm(p.dot(self.W))\n",
    "                self.W -= self.train_rate * p.T.dot(f_p - y)\n",
    "                \n",
    "        return self\n",
    "    \n",
    "    def get_params(self, deep=True):\n",
    "        return {\"epoch\": self.epoch, \"batch\": self.batch, \"train_rate\": self.train_rate}"
   ]
  },
  {
   "cell_type": "markdown",
   "id": "c7b1983d",
   "metadata": {},
   "source": [
    "#### Собственная реализация"
   ]
  },
  {
   "cell_type": "code",
   "execution_count": 38,
   "id": "dd6acaf8",
   "metadata": {},
   "outputs": [
    {
     "data": {
      "text/html": [
       "<div>\n",
       "<style scoped>\n",
       "    .dataframe tbody tr th:only-of-type {\n",
       "        vertical-align: middle;\n",
       "    }\n",
       "\n",
       "    .dataframe tbody tr th {\n",
       "        vertical-align: top;\n",
       "    }\n",
       "\n",
       "    .dataframe thead th {\n",
       "        text-align: right;\n",
       "    }\n",
       "</style>\n",
       "<table border=\"1\" class=\"dataframe\">\n",
       "  <thead>\n",
       "    <tr style=\"text-align: right;\">\n",
       "      <th></th>\n",
       "      <th>parameters</th>\n",
       "    </tr>\n",
       "  </thead>\n",
       "  <tbody>\n",
       "    <tr>\n",
       "      <th>batch</th>\n",
       "      <td>2.0</td>\n",
       "    </tr>\n",
       "    <tr>\n",
       "      <th>epoch</th>\n",
       "      <td>30.0</td>\n",
       "    </tr>\n",
       "    <tr>\n",
       "      <th>train_rate</th>\n",
       "      <td>0.1</td>\n",
       "    </tr>\n",
       "  </tbody>\n",
       "</table>\n",
       "</div>"
      ],
      "text/plain": [
       "            parameters\n",
       "batch              2.0\n",
       "epoch             30.0\n",
       "train_rate         0.1"
      ]
     },
     "execution_count": 38,
     "metadata": {},
     "output_type": "execute_result"
    }
   ],
   "source": [
    "parametrs = {\n",
    "    'epoch' : range(5, 41, 5),\n",
    "    'batch' : range(2, 32, 4),\n",
    "    'train_rate' : [0.1, 0.01, 0.001, 0.0001],\n",
    "}\n",
    "grid = GridSearchCV(LogitModel(), parametrs, cv = 5)\n",
    "grid.fit(Train_data, Train_labels)\n",
    "Params(grid.best_params_)"
   ]
  },
  {
   "cell_type": "code",
   "execution_count": 39,
   "id": "ba75599e",
   "metadata": {},
   "outputs": [
    {
     "name": "stdout",
     "output_type": "stream",
     "text": [
      "Accuracy: 1.0\n",
      "Recall: 1.0\n",
      "Precision: 1.0\n"
     ]
    },
    {
     "data": {
      "image/png": "[encoded data removed]",
      "text/plain": [
       "<Figure size 288x288 with 2 Axes>"
      ]
     },
     "metadata": {
      "needs_background": "light"
     },
     "output_type": "display_data"
    },
    {
     "data": {
      "image/png": "[encoded data removed]",
      "text/plain": [
       "<Figure size 576x576 with 1 Axes>"
      ]
     },
     "metadata": {
      "needs_background": "light"
     },
     "output_type": "display_data"
    }
   ],
   "source": [
    "pipe = Pipeline([\n",
    "    ('scaler', StandardScaler()),\n",
    "    ('selector', VarianceThreshold()),\n",
    "    ('classifier', LogitModel(a = 2, **grid.best_params_))\n",
    "]).fit(Train_data, Train_labels)\n",
    "\n",
    "MetricsEstimates(pipe, Test_data, Test_labels, K = 1)"
   ]
  },
  {
   "cell_type": "markdown",
   "id": "7376999c",
   "metadata": {},
   "source": [
    "#### Втроенная реализация"
   ]
  },
  {
   "cell_type": "code",
   "execution_count": 40,
   "id": "b76510db",
   "metadata": {},
   "outputs": [
    {
     "name": "stdout",
     "output_type": "stream",
     "text": [
      "Accuracy: 0.9916666666666667\n",
      "Recall: 0.9916666666666667\n",
      "Precision: 0.9918032786885246\n"
     ]
    },
    {
     "data": {
      "image/png": "[encoded data removed]",
      "text/plain": [
       "<Figure size 288x288 with 2 Axes>"
      ]
     },
     "metadata": {
      "needs_background": "light"
     },
     "output_type": "display_data"
    },
    {
     "data": {
      "image/png": "[encoded data removed]",
      "text/plain": [
       "<Figure size 576x576 with 1 Axes>"
      ]
     },
     "metadata": {
      "needs_background": "light"
     },
     "output_type": "display_data"
    }
   ],
   "source": [
    "pipe = Pipeline([\n",
    "    ('scaler', StandardScaler()),\n",
    "    ('selector', VarianceThreshold()),\n",
    "    ('classifier', sklearn.linear_model.LogisticRegression())\n",
    "]).fit(Train_data, Train_labels)\n",
    "\n",
    "MetricsEstimates(pipe, Test_data, Test_labels, K = 3)"
   ]
  },
  {
   "cell_type": "markdown",
   "id": "ddc48dd0",
   "metadata": {},
   "source": [
    "### Метод опорных векторов"
   ]
  },
  {
   "cell_type": "code",
   "execution_count": 41,
   "id": "e849e56d",
   "metadata": {},
   "outputs": [],
   "source": [
    "class SVM(BaseEstimator, ClassifierMixin):\n",
    "    \n",
    "    def __sigm(self, x):\n",
    "        x = np.clip(x, -10, 10)\n",
    "        return 1.0 / (1.0 + np.exp(-x))\n",
    "    \n",
    "    def __init__(self, a = 2, **kwargs):\n",
    "        self.W = np.random.normal(0, 1, a + 1)\n",
    "        self.alpha = kwargs.get('alpha', 0.1)\n",
    "        self.epoch = kwargs.get('epoch', 20)\n",
    "        self.train_rate = kwargs.get('train_rate', 0.1)\n",
    "        self.batch = kwargs.get('batch', 4)\n",
    "        \n",
    "    def coef(self):\n",
    "        return self.W\n",
    "    \n",
    "    def predict(self, p):\n",
    "        res = self.predict_proba(p)\n",
    "        return np.where(res >= 0.5, 1, 0)\n",
    "    \n",
    "    def predict_proba(self, p):\n",
    "        n, m = p.shape\n",
    "        p = np.c_[np.ones(n), p]\n",
    "        return self.__sigm(p.dot(self.W))\n",
    "        \n",
    "    def fit(self, Train_data, Train_labels):\n",
    "    \n",
    "        n, m = Train_data.shape\n",
    "        Train = np.c_[np.ones(n), Train_data]\n",
    "    \n",
    "        for i in range(self.epoch):\n",
    "            for j in range(0, len(Train), self.batch):\n",
    "                p = Train[j : j + self.batch]\n",
    "                y = Train_labels[j : j + self.batch] * 2 - 1\n",
    "                f_p = self.__sigm(p.dot(self.W))\n",
    "                \n",
    "                grad = 2 * self.alpha * self.W\n",
    "                for ib, xb in enumerate(p):\n",
    "                    if 1 - xb.dot(self.W) * y[ib] > 0:\n",
    "                        grad -= xb * y[ib]\n",
    "                \n",
    "                self.W -= self.train_rate * grad\n",
    "                \n",
    "        return self\n",
    "    \n",
    "    def get_params(self, deep=True):\n",
    "        return {\"alpha\" : self.alpha, \"epoch\": self.epoch, \"batch\": self.batch, \"train_rate\": self.train_rate}"
   ]
  },
  {
   "cell_type": "markdown",
   "id": "efa95fe6",
   "metadata": {},
   "source": [
    "#### Собственная реализация"
   ]
  },
  {
   "cell_type": "code",
   "execution_count": 42,
   "id": "e627ef7b",
   "metadata": {},
   "outputs": [
    {
     "data": {
      "text/html": [
       "<div>\n",
       "<style scoped>\n",
       "    .dataframe tbody tr th:only-of-type {\n",
       "        vertical-align: middle;\n",
       "    }\n",
       "\n",
       "    .dataframe tbody tr th {\n",
       "        vertical-align: top;\n",
       "    }\n",
       "\n",
       "    .dataframe thead th {\n",
       "        text-align: right;\n",
       "    }\n",
       "</style>\n",
       "<table border=\"1\" class=\"dataframe\">\n",
       "  <thead>\n",
       "    <tr style=\"text-align: right;\">\n",
       "      <th></th>\n",
       "      <th>parameters</th>\n",
       "    </tr>\n",
       "  </thead>\n",
       "  <tbody>\n",
       "    <tr>\n",
       "      <th>alpha</th>\n",
       "      <td>0.001</td>\n",
       "    </tr>\n",
       "    <tr>\n",
       "      <th>batch</th>\n",
       "      <td>8.000</td>\n",
       "    </tr>\n",
       "    <tr>\n",
       "      <th>epoch</th>\n",
       "      <td>40.000</td>\n",
       "    </tr>\n",
       "    <tr>\n",
       "      <th>train_rate</th>\n",
       "      <td>0.010</td>\n",
       "    </tr>\n",
       "  </tbody>\n",
       "</table>\n",
       "</div>"
      ],
      "text/plain": [
       "            parameters\n",
       "alpha            0.001\n",
       "batch            8.000\n",
       "epoch           40.000\n",
       "train_rate       0.010"
      ]
     },
     "execution_count": 42,
     "metadata": {},
     "output_type": "execute_result"
    }
   ],
   "source": [
    "parametrs = {\n",
    "    'alpha' : [0.01, 0.001],\n",
    "    'epoch' : range(20, 61, 10),\n",
    "    'batch' : range(2, 9, 2),\n",
    "    'train_rate' : [0.01, 0.001],\n",
    "}\n",
    "grid = GridSearchCV(SVM(), parametrs, cv = 5)\n",
    "grid.fit(Train_data, Train_labels)\n",
    "Params(grid.best_params_)"
   ]
  },
  {
   "cell_type": "code",
   "execution_count": 43,
   "id": "caa2e87c",
   "metadata": {},
   "outputs": [
    {
     "name": "stdout",
     "output_type": "stream",
     "text": [
      "Accuracy: 1.0\n",
      "Recall: 1.0\n",
      "Precision: 1.0\n"
     ]
    },
    {
     "data": {
      "image/png": "[encoded data removed]",
      "text/plain": [
       "<Figure size 288x288 with 2 Axes>"
      ]
     },
     "metadata": {
      "needs_background": "light"
     },
     "output_type": "display_data"
    },
    {
     "data": {
      "image/png": "[encoded data removed]",
      "text/plain": [
       "<Figure size 576x576 with 1 Axes>"
      ]
     },
     "metadata": {
      "needs_background": "light"
     },
     "output_type": "display_data"
    }
   ],
   "source": [
    "pipe = Pipeline([\n",
    "    ('scaler', StandardScaler()),\n",
    "    ('selector', VarianceThreshold()),\n",
    "    ('classifier', SVM(**grid.best_params_))\n",
    "]).fit(Train_data, Train_labels)\n",
    "\n",
    "MetricsEstimates(pipe, Test_data, Test_labels, 2)"
   ]
  },
  {
   "cell_type": "markdown",
   "id": "23337469",
   "metadata": {},
   "source": [
    "#### Втроенная реализация"
   ]
  },
  {
   "cell_type": "code",
   "execution_count": 44,
   "id": "d2928d67",
   "metadata": {},
   "outputs": [
    {
     "name": "stdout",
     "output_type": "stream",
     "text": [
      "Accuracy: 1.0\n",
      "Recall: 1.0\n",
      "Precision: 1.0\n"
     ]
    },
    {
     "data": {
      "image/png": "[encoded data removed]",
      "text/plain": [
       "<Figure size 288x288 with 2 Axes>"
      ]
     },
     "metadata": {
      "needs_background": "light"
     },
     "output_type": "display_data"
    },
    {
     "data": {
      "image/png": "[encoded data removed]",
      "text/plain": [
       "<Figure size 576x576 with 1 Axes>"
      ]
     },
     "metadata": {
      "needs_background": "light"
     },
     "output_type": "display_data"
    }
   ],
   "source": [
    "pipe = Pipeline([\n",
    "    ('scaler', StandardScaler()),\n",
    "    ('selector', VarianceThreshold()),\n",
    "    ('classifier', sklearn.svm.SVC(kernel=\"linear\"))\n",
    "]).fit(Train_data, Train_labels)\n",
    "\n",
    "MetricsEstimates(pipe, Test_data, Test_labels, 3)"
   ]
  },
  {
   "cell_type": "markdown",
   "id": "3d70e703",
   "metadata": {},
   "source": [
    "### Метод k-ближайших соседей"
   ]
  },
  {
   "cell_type": "code",
   "execution_count": 45,
   "id": "4c2cc3f9",
   "metadata": {},
   "outputs": [],
   "source": [
    "class KNN(BaseEstimator, ClassifierMixin):\n",
    "    \n",
    "    def __norm(self, x, y):\n",
    "        return np.sqrt(np.sum(np.square(x - y)))\n",
    "    \n",
    "    def __init__(self, **kwargs):\n",
    "        self.k = kwargs.get('k', 5)\n",
    "        self.data = None\n",
    "        \n",
    "    def predict(self, p):\n",
    "        result = []\n",
    "        for x in p:\n",
    "            self.data.sort(key = lambda t : self.__norm(t[0], x))\n",
    "            result.append(np.bincount(np.array([i[1] for i in self.data[:self.k]])).argmax())\n",
    "        return np.array(result)\n",
    "    \n",
    "    def fit(self, Train_data, Train_labels):\n",
    "    \n",
    "        self.data = [(Train_data[i], Train_labels[i]) for i in range(len(Train_data))]\n",
    "        return self\n",
    "    \n",
    "    def get_params(self, deep=True):\n",
    "        return {\"k\": self.k}"
   ]
  },
  {
   "cell_type": "markdown",
   "id": "28fa85b1",
   "metadata": {},
   "source": [
    "#### Собственная реализация"
   ]
  },
  {
   "cell_type": "code",
   "execution_count": 46,
   "id": "5a25aa88",
   "metadata": {},
   "outputs": [
    {
     "data": {
      "text/html": [
       "<div>\n",
       "<style scoped>\n",
       "    .dataframe tbody tr th:only-of-type {\n",
       "        vertical-align: middle;\n",
       "    }\n",
       "\n",
       "    .dataframe tbody tr th {\n",
       "        vertical-align: top;\n",
       "    }\n",
       "\n",
       "    .dataframe thead th {\n",
       "        text-align: right;\n",
       "    }\n",
       "</style>\n",
       "<table border=\"1\" class=\"dataframe\">\n",
       "  <thead>\n",
       "    <tr style=\"text-align: right;\">\n",
       "      <th></th>\n",
       "      <th>parameters</th>\n",
       "    </tr>\n",
       "  </thead>\n",
       "  <tbody>\n",
       "    <tr>\n",
       "      <th>k</th>\n",
       "      <td>3</td>\n",
       "    </tr>\n",
       "  </tbody>\n",
       "</table>\n",
       "</div>"
      ],
      "text/plain": [
       "   parameters\n",
       "k           3"
      ]
     },
     "execution_count": 46,
     "metadata": {},
     "output_type": "execute_result"
    }
   ],
   "source": [
    "parametrs = {\n",
    "    'k' : range(3, 12, 2),\n",
    "}\n",
    "grid = GridSearchCV(KNN(), parametrs, cv = 5)\n",
    "grid.fit(Train_data, Train_labels)\n",
    "Params(grid.best_params_)"
   ]
  },
  {
   "cell_type": "code",
   "execution_count": 47,
   "id": "5aa9323e",
   "metadata": {},
   "outputs": [
    {
     "name": "stdout",
     "output_type": "stream",
     "text": [
      "Accuracy: 1.0\n",
      "Recall: 1.0\n",
      "Precision: 1.0\n"
     ]
    },
    {
     "data": {
      "image/png": "[encoded data removed]",
      "text/plain": [
       "<Figure size 288x288 with 2 Axes>"
      ]
     },
     "metadata": {
      "needs_background": "light"
     },
     "output_type": "display_data"
    }
   ],
   "source": [
    "pipe = Pipeline([\n",
    "    ('scaler', StandardScaler()),\n",
    "    ('selector', VarianceThreshold()),\n",
    "    ('classifier', KNN(**grid.best_params_))\n",
    "]).fit(Train_data, Train_labels)\n",
    "\n",
    "MetricsEstimates(pipe, Test_data, Test_labels)"
   ]
  },
  {
   "cell_type": "markdown",
   "id": "8635569b",
   "metadata": {},
   "source": [
    "#### Встроенная реализация"
   ]
  },
  {
   "cell_type": "code",
   "execution_count": 48,
   "id": "9262449e",
   "metadata": {},
   "outputs": [
    {
     "name": "stdout",
     "output_type": "stream",
     "text": [
      "Accuracy: 1.0\n",
      "Recall: 1.0\n",
      "Precision: 1.0\n"
     ]
    },
    {
     "data": {
      "image/png": "[encoded data removed]",
      "text/plain": [
       "<Figure size 288x288 with 2 Axes>"
      ]
     },
     "metadata": {
      "needs_background": "light"
     },
     "output_type": "display_data"
    }
   ],
   "source": [
    "pipe = Pipeline([\n",
    "    ('scaler', StandardScaler()),\n",
    "    ('selector', VarianceThreshold()),\n",
    "    ('classifier', sklearn.neighbors.KNeighborsClassifier())\n",
    "]).fit(Train_data, Train_labels)\n",
    "\n",
    "MetricsEstimates(pipe, Test_data, Test_labels)"
   ]
  },
  {
   "cell_type": "markdown",
   "id": "50ef94c2",
   "metadata": {},
   "source": [
    "### Наивный байесовский классификатор"
   ]
  },
  {
   "cell_type": "code",
   "execution_count": 49,
   "id": "3a7801e4",
   "metadata": {},
   "outputs": [],
   "source": [
    "class NBC(BaseEstimator, ClassifierMixin):\n",
    "    \n",
    "    def __init__(self):\n",
    "        self.P = {}\n",
    "        self.M = {}\n",
    "        self.D = {}\n",
    "        \n",
    "    def predict(self, p):\n",
    "        result = []\n",
    "        for x in p:\n",
    "            maxp, maxclass = None, None\n",
    "            for y in self.P.keys():\n",
    "                if (maxp == maxclass == None) or self.predict_proba(x, y) > maxp:\n",
    "                    maxp = self.predict_proba(x, y)\n",
    "                    maxclass = y\n",
    "                    \n",
    "            result.append(maxclass)\n",
    "        return np.array(result)\n",
    "    \n",
    "    def predict_proba(self, x, y):\n",
    "        result = 1\n",
    "        \n",
    "        for i in range(len(x)):\n",
    "            result *= 1.0 / (np.sqrt(2*np.pi)) * np.exp(- (x[i] - self.M[y][i])**2 / (2 * self.D[y][i]**2))\n",
    "        \n",
    "        return result\n",
    "    \n",
    "    def fit(self, Train_data, Train_labels):\n",
    "        self.P = {i : sum(Train_labels == i) / len(Train_labels) for i in set(Train_labels)}\n",
    "\n",
    "        for i in self.P.keys():\n",
    "            acc = np.zeros_like(Train_data[0])\n",
    "            for j in range(len(Train_data)):\n",
    "                if Train_labels[j] == i:\n",
    "                    acc += Train_data[j]\n",
    "            acc /= sum(Train_labels == i)\n",
    "            self.M[i] = acc\n",
    "        \n",
    "        for i in self.P.keys():\n",
    "            acc = np.zeros_like(Train_data[0])\n",
    "            for j in range(len(Train_data)):\n",
    "                if Train_labels[j] == i:\n",
    "                    acc += np.square(Train_data[j] - self.M[i])\n",
    "            acc /= sum(Train_labels == i) - 1\n",
    "            self.D[i] = acc\n",
    "        \n",
    "        return self\n",
    "    \n",
    "    def get_params(self, deep=True):\n",
    "        return {\"P\": self.P, \"M\": self.M}"
   ]
  },
  {
   "cell_type": "markdown",
   "id": "6c0a0ea8",
   "metadata": {},
   "source": [
    "#### Собственная реализация"
   ]
  },
  {
   "cell_type": "code",
   "execution_count": 50,
   "id": "f5fb01ac",
   "metadata": {},
   "outputs": [
    {
     "name": "stdout",
     "output_type": "stream",
     "text": [
      "Accuracy: 1.0\n",
      "Recall: 1.0\n",
      "Precision: 1.0\n"
     ]
    },
    {
     "data": {
      "image/png": "[encoded data removed]",
      "text/plain": [
       "<Figure size 288x288 with 2 Axes>"
      ]
     },
     "metadata": {
      "needs_background": "light"
     },
     "output_type": "display_data"
    }
   ],
   "source": [
    "pipe = Pipeline([\n",
    "    ('scaler', StandardScaler()),\n",
    "    ('selector', VarianceThreshold()),\n",
    "    ('classifier', NBC())\n",
    "]).fit(Train_data, Train_labels)\n",
    "\n",
    "MetricsEstimates(pipe, Test_data, Test_labels)"
   ]
  },
  {
   "cell_type": "markdown",
   "id": "2d94da56",
   "metadata": {},
   "source": [
    "#### Встроенная реализация"
   ]
  },
  {
   "cell_type": "code",
   "execution_count": 51,
   "id": "dff79af3",
   "metadata": {},
   "outputs": [
    {
     "name": "stdout",
     "output_type": "stream",
     "text": [
      "Accuracy: 0.9916666666666667\n",
      "Recall: 0.9916666666666667\n",
      "Precision: 0.9918032786885246\n"
     ]
    },
    {
     "data": {
      "image/png": "[encoded data removed]",
      "text/plain": [
       "<Figure size 288x288 with 2 Axes>"
      ]
     },
     "metadata": {
      "needs_background": "light"
     },
     "output_type": "display_data"
    }
   ],
   "source": [
    "pipe = Pipeline([\n",
    "    ('scaler', StandardScaler()),\n",
    "    ('selector', VarianceThreshold()),\n",
    "    ('classifier', sklearn.naive_bayes.GaussianNB())\n",
    "]).fit(Train_data, Train_labels)\n",
    "\n",
    "MetricsEstimates(pipe, Test_data, Test_labels)"
   ]
  }
 ],
 "metadata": {
  "kernelspec": {
   "display_name": "Python 3 (ipykernel)",
   "language": "python",
   "name": "python3"
  },
  "language_info": {
   "codemirror_mode": {
    "name": "ipython",
    "version": 3
   },
   "file_extension": ".py",
   "mimetype": "text/x-python",
   "name": "python",
   "nbconvert_exporter": "python",
   "pygments_lexer": "ipython3",
   "version": "3.10.0"
  }
 },
 "nbformat": 4,
 "nbformat_minor": 5
}
