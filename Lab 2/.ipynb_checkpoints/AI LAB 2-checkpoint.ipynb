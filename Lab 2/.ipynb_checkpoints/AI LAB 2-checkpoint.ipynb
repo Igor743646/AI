{
 "cells": [
  {
   "cell_type": "code",
   "execution_count": 1,
   "id": "593b755e",
   "metadata": {},
   "outputs": [],
   "source": [
    "import pandas as pd\n",
    "import numpy as np\n",
    "from scipy import stats\n",
    "import pickle\n",
    "import math, scipy\n",
    "import datetime, sklearn\n",
    "import seaborn as sns\n",
    "from sklearn.base import BaseEstimator, ClassifierMixin\n",
    "import matplotlib.pyplot as plt\n",
    "from sympy import *\n",
    "from sklearn import naive_bayes, ensemble, tree\n",
    "from sklearn.feature_selection import VarianceThreshold\n",
    "from sklearn.pipeline import Pipeline\n",
    "from sklearn.metrics import confusion_matrix, accuracy_score, recall_score, precision_score\n",
    "from sklearn.model_selection import GridSearchCV\n",
    "from sklearn.preprocessing import Normalizer, StandardScaler, MinMaxScaler, PowerTransformer, MaxAbsScaler, LabelEncoder\n",
    "np.warnings.filterwarnings('ignore')"
   ]
  },
  {
   "cell_type": "markdown",
   "id": "50ffa4e5",
   "metadata": {},
   "source": [
    "Читаем наши данные и проводим предварительную обработку на основе выводов нулевой лабораторной"
   ]
  },
  {
   "cell_type": "code",
   "execution_count": 2,
   "id": "69e4bb1b",
   "metadata": {},
   "outputs": [
    {
     "data": {
      "text/html": [
       "<div>\n",
       "<style scoped>\n",
       "    .dataframe tbody tr th:only-of-type {\n",
       "        vertical-align: middle;\n",
       "    }\n",
       "\n",
       "    .dataframe tbody tr th {\n",
       "        vertical-align: top;\n",
       "    }\n",
       "\n",
       "    .dataframe thead th {\n",
       "        text-align: right;\n",
       "    }\n",
       "</style>\n",
       "<table border=\"1\" class=\"dataframe\">\n",
       "  <thead>\n",
       "    <tr style=\"text-align: right;\">\n",
       "      <th></th>\n",
       "      <th>Temperature (K)</th>\n",
       "      <th>Absolute magnitude(Mv)</th>\n",
       "      <th>Star type</th>\n",
       "    </tr>\n",
       "  </thead>\n",
       "  <tbody>\n",
       "    <tr>\n",
       "      <th>0</th>\n",
       "      <td>8.028781</td>\n",
       "      <td>16.12</td>\n",
       "      <td>0</td>\n",
       "    </tr>\n",
       "    <tr>\n",
       "      <th>188</th>\n",
       "      <td>7.929487</td>\n",
       "      <td>19.45</td>\n",
       "      <td>0</td>\n",
       "    </tr>\n",
       "    <tr>\n",
       "      <th>187</th>\n",
       "      <td>8.155936</td>\n",
       "      <td>16.67</td>\n",
       "      <td>0</td>\n",
       "    </tr>\n",
       "    <tr>\n",
       "      <th>185</th>\n",
       "      <td>7.968666</td>\n",
       "      <td>16.93</td>\n",
       "      <td>0</td>\n",
       "    </tr>\n",
       "    <tr>\n",
       "      <th>184</th>\n",
       "      <td>8.146999</td>\n",
       "      <td>17.08</td>\n",
       "      <td>0</td>\n",
       "    </tr>\n",
       "  </tbody>\n",
       "</table>\n",
       "</div>"
      ],
      "text/plain": [
       "     Temperature (K)  Absolute magnitude(Mv)  Star type\n",
       "0           8.028781                   16.12          0\n",
       "188         7.929487                   19.45          0\n",
       "187         8.155936                   16.67          0\n",
       "185         7.968666                   16.93          0\n",
       "184         8.146999                   17.08          0"
      ]
     },
     "execution_count": 2,
     "metadata": {},
     "output_type": "execute_result"
    }
   ],
   "source": [
    "A = pd.read_csv('stars.csv', engine='python', sep=',')\n",
    "Table = A\n",
    "Table = Table[['Temperature (K)', 'Absolute magnitude(Mv)', 'Star type']]\n",
    "Table = Table.apply(lambda x : np.log(x) if x.name == 'Temperature (K)' else x)\n",
    "Table = Table.apply(lambda x : np.abs(x) if x.name == 'Absolute magnitude(Mv)' else x)\n",
    "Table = Table.sort_values('Star type')\n",
    "Table.head()"
   ]
  },
  {
   "cell_type": "code",
   "execution_count": 3,
   "id": "9a9c42bb",
   "metadata": {},
   "outputs": [],
   "source": [
    "def Plot(Table, x, y, c = 6, f = lambda x : x):\n",
    "    fig = plt.figure(figsize=(8, 8))\n",
    "    ax = fig.add_subplot()\n",
    "\n",
    "    for a, b in [(i, i) for i in (c if type(c) is list else range(c))]:\n",
    "        S = Table[(Table['Star type'] <= b) & (Table['Star type'] >= a)]\n",
    "        ax.scatter(S[x], f(S[y]), label=f\"{a}\")\n",
    "        \n",
    "    plt.legend(loc='upper right')\n",
    "    plt.show()\n",
    "    \n",
    "def PlotAll(Table, x, y, c = 6, f = lambda x : x, function = lambda x, y : x, eps = 0.025):\n",
    "    fig = plt.figure(figsize=(8, 8))\n",
    "    ax = fig.add_subplot()\n",
    "\n",
    "    for a, b in [(i, i) for i in (c if type(c) is list else range(c))]:\n",
    "        S = Table[(Table['Star type'] <= b) & (Table['Star type'] >= a)]\n",
    "        ax.scatter(S[x], f(S[y]), label=f\"{a}\")\n",
    "        \n",
    "    xrange = np.arange(Table[x].min(), Table[x].max(), eps)\n",
    "    yrange = np.arange(f(Table[y]).min(), f(Table[y]).max(), eps)\n",
    "    X, Y = np.meshgrid(xrange,yrange)\n",
    "\n",
    "    F = function(X, Y)\n",
    "\n",
    "    ax.contour(X, Y, F, [0])\n",
    "    \n",
    "    plt.legend(loc='upper right')\n",
    "    plt.show()\n",
    "    \n",
    "def Params(slov) -> pd.DataFrame:\n",
    "    return pd.DataFrame({'parameters' : grid.best_params_.values()}, index=[*grid.best_params_.keys()])\n",
    "\n",
    "def MetricsEstimates(pipe : Pipeline, Test_data, Test_labels, K = None) -> None:\n",
    "    y_pred = pipe.predict(Test_data)\n",
    "    y_true = Test_labels\n",
    "    \n",
    "    print(f\"Accuracy: {accuracy_score(y_true, y_pred)}\")\n",
    "    print(f\"Recall: {recall_score(y_true, y_pred, average='macro')}\")\n",
    "    print(f\"Precision: {precision_score(y_true, y_pred, average='macro')}\")\n",
    "    \n",
    "    m = confusion_matrix(y_true, y_pred, labels = list(set(y_pred)))\n",
    "    plt.matshow(m)\n",
    "    plt.colorbar()\n",
    "    plt.show()\n",
    "    \n",
    "    if K == 1 or K == 2:\n",
    "        weights = pipe['classifier'].W\n",
    "        ss = StandardScaler()\n",
    "        vt = VarianceThreshold()\n",
    "        t_data = np.c_[vt.fit_transform(ss.fit_transform(Test_data)), Test_labels]\n",
    "        t_data = pd.DataFrame(t_data, columns = ['Absolute magnitude(Mv)', 'Radius(R/Ro)', 'Star type'])\n",
    "        PlotAll(t_data, 'Absolute magnitude(Mv)', 'Radius(R/Ro)', \n",
    "                function = lambda x, y : weights[0] + weights[1] * x + weights[2] * y)\n",
    "    elif K == 3:\n",
    "        weights = np.c_[pipe['classifier'].intercept_, pipe['classifier'].coef_][0]\n",
    "        ss = StandardScaler()\n",
    "        vt = VarianceThreshold()\n",
    "        t_data = np.c_[vt.fit_transform(ss.fit_transform(Test_data)), Test_labels]\n",
    "        t_data = pd.DataFrame(t_data, columns = ['Absolute magnitude(Mv)', 'Radius(R/Ro)', 'Star type'])\n",
    "        PlotAll(t_data, 'Absolute magnitude(Mv)', 'Radius(R/Ro)', \n",
    "                function = lambda x, y : weights[0] + weights[1] * x + weights[2] * y)\n",
    "    elif K == 4:\n",
    "        \n",
    "        weights = np.c_[pipe['classifier'].intercept_, pipe['classifier'].coef_][0]\n",
    "        print(weights)\n",
    "        ss = StandardScaler()\n",
    "        vt = VarianceThreshold()\n",
    "        t_data = np.c_[vt.fit_transform(ss.fit_transform(Test_data)), Test_labels]\n",
    "        t_data = pd.DataFrame(t_data, columns = ['Absolute magnitude(Mv)', 'Radius(R/Ro)', 'Star type'])\n",
    "        PlotAll(t_data, 'Absolute magnitude(Mv)', 'Radius(R/Ro)', \n",
    "                function = lambda x, y : weights[0] + weights[1] * x + weights[2] * y)"
   ]
  },
  {
   "cell_type": "code",
   "execution_count": 4,
   "id": "b4c7718b",
   "metadata": {
    "scrolled": false
   },
   "outputs": [
    {
     "data": {
      "image/png": "[encoded data removed]",
      "text/plain": [
       "<Figure size 576x576 with 1 Axes>"
      ]
     },
     "metadata": {
      "needs_background": "light"
     },
     "output_type": "display_data"
    }
   ],
   "source": [
    "Train = Table.iloc[::2, :]\n",
    "Test = Table.iloc[1::2, :]\n",
    "\n",
    "def prepare(Table):\n",
    "    Res = Table.copy()\n",
    "    Res['Star type'] = Res['Star type'].apply(lambda x : 0 if x <= 2 else 1)\n",
    "    return Res\n",
    "\n",
    "Train = prepare(Train)\n",
    "Test = prepare(Test)\n",
    "\n",
    "# Absolute magnitude(Mv)\n",
    "# Temperature (K)\n",
    "# Luminosity(L/Lo)\n",
    "Plot(Train, 'Temperature (K)', 'Absolute magnitude(Mv)', c = 3)"
   ]
  },
  {
   "cell_type": "markdown",
   "id": "ef52628b",
   "metadata": {},
   "source": [
    "Разбиваем выборку на тренировочную и обучающую"
   ]
  },
  {
   "cell_type": "code",
   "execution_count": 5,
   "id": "8d4f7b3a",
   "metadata": {},
   "outputs": [],
   "source": [
    "Train_data = np.array(Train[['Temperature (K)', 'Absolute magnitude(Mv)']])\n",
    "Train_labels = np.array(Train['Star type'])\n",
    "Test_data = np.array(Test[['Temperature (K)', 'Absolute magnitude(Mv)']])\n",
    "Test_labels = np.array(Test['Star type'])"
   ]
  },
  {
   "cell_type": "markdown",
   "id": "e7fa7fc2",
   "metadata": {},
   "source": [
    "Загрузим гиперпараметры для моделей"
   ]
  },
  {
   "cell_type": "code",
   "execution_count": 6,
   "id": "9a02f3ab",
   "metadata": {},
   "outputs": [
    {
     "name": "stdout",
     "output_type": "stream",
     "text": [
      "{'LR': {'batch': 6, 'epoch': 20, 'train_rate': 0.1}, 'SVN': {'alpha': 0.001, 'batch': 4, 'epoch': 40, 'train_rate': 0.01}, 'KNN': {'k': 3}}\n"
     ]
    }
   ],
   "source": [
    "try:\n",
    "    with open('data.pickle', 'rb') as f:\n",
    "         data = pickle.load(f)\n",
    "    print(data)\n",
    "except BaseException as err:\n",
    "    print(f\"{err}\")\n",
    "    data = {}"
   ]
  },
  {
   "cell_type": "markdown",
   "id": "c04e8a80",
   "metadata": {},
   "source": [
    "### Логистическая регрессия"
   ]
  },
  {
   "cell_type": "code",
   "execution_count": 7,
   "id": "43bb5f28",
   "metadata": {},
   "outputs": [],
   "source": [
    "class LogitModel(BaseEstimator, ClassifierMixin):\n",
    "    \n",
    "    def __sigm(self, x):\n",
    "        x = np.clip(x, -10, 10)\n",
    "        return 1.0 / (1.0 + np.exp(-x))\n",
    "    \n",
    "    def __init__(self, a = 2, **kwargs):\n",
    "        self.W = np.random.normal(0, 1, a + 1)\n",
    "        self.epoch = kwargs.get('epoch', 20)\n",
    "        self.train_rate = kwargs.get('train_rate', 0.1)\n",
    "        self.batch = kwargs.get('batch', 4)\n",
    "        \n",
    "    def coef(self):\n",
    "        return self.W\n",
    "    \n",
    "    def predict(self, p):\n",
    "        res = self.predict_proba(p)\n",
    "        return np.where(res >= 0.5, 1, 0)\n",
    "    \n",
    "    def predict_proba(self, p):\n",
    "        n, m = p.shape\n",
    "        p = np.c_[np.ones(n), p]\n",
    "        return self.__sigm(p.dot(self.W))\n",
    "        \n",
    "    def fit(self, Train_data, Train_labels):\n",
    "    \n",
    "        n, m = Train_data.shape\n",
    "        Train = np.c_[np.ones(n), Train_data]\n",
    "    \n",
    "        for i in range(self.epoch):\n",
    "            for j in range(0, len(Train), self.batch):\n",
    "                p = Train[j : j + self.batch]\n",
    "                y = Train_labels[j : j + self.batch]\n",
    "                f_p = self.__sigm(p.dot(self.W))\n",
    "                self.W -= self.train_rate * p.T.dot(f_p - y)\n",
    "                \n",
    "        return self\n",
    "    \n",
    "    def get_params(self, deep=True):\n",
    "        return {\"epoch\": self.epoch, \"batch\": self.batch, \"train_rate\": self.train_rate}"
   ]
  },
  {
   "cell_type": "markdown",
   "id": "ddc48dd0",
   "metadata": {},
   "source": [
    "### Метод опорных векторов"
   ]
  },
  {
   "cell_type": "code",
   "execution_count": 8,
   "id": "e849e56d",
   "metadata": {},
   "outputs": [],
   "source": [
    "class SVM(BaseEstimator, ClassifierMixin):\n",
    "    \n",
    "    def __sigm(self, x):\n",
    "        x = np.clip(x, -10, 10)\n",
    "        return 1.0 / (1.0 + np.exp(-x))\n",
    "    \n",
    "    def __init__(self, a = 2, **kwargs):\n",
    "        self.W = np.random.normal(0, 1, a + 1)\n",
    "        self.alpha = kwargs.get('alpha', 0.1)\n",
    "        self.epoch = kwargs.get('epoch', 20)\n",
    "        self.train_rate = kwargs.get('train_rate', 0.1)\n",
    "        self.batch = kwargs.get('batch', 4)\n",
    "        \n",
    "    def coef(self):\n",
    "        return self.W\n",
    "    \n",
    "    def predict(self, p):\n",
    "        res = self.predict_proba(p)\n",
    "        return np.where(res >= 0.5, 1, 0)\n",
    "    \n",
    "    def predict_proba(self, p):\n",
    "        n, m = p.shape\n",
    "        p = np.c_[np.ones(n), p]\n",
    "        return self.__sigm(p.dot(self.W))\n",
    "        \n",
    "    def fit(self, Train_data, Train_labels):\n",
    "    \n",
    "        n, m = Train_data.shape\n",
    "        Train = np.c_[np.ones(n), Train_data]\n",
    "    \n",
    "        for i in range(self.epoch):\n",
    "            for j in range(0, len(Train), self.batch):\n",
    "                p = Train[j : j + self.batch]\n",
    "                y = Train_labels[j : j + self.batch] * 2 - 1\n",
    "                f_p = self.__sigm(p.dot(self.W))\n",
    "                \n",
    "                grad = 2 * self.alpha * self.W\n",
    "                for ib, xb in enumerate(p):\n",
    "                    if 1 - xb.dot(self.W) * y[ib] > 0:\n",
    "                        grad -= xb * y[ib]\n",
    "                \n",
    "                self.W -= self.train_rate * grad\n",
    "                \n",
    "        return self\n",
    "    \n",
    "    def get_params(self, deep=True):\n",
    "        return {\"alpha\" : self.alpha, \"epoch\": self.epoch, \"batch\": self.batch, \"train_rate\": self.train_rate}"
   ]
  },
  {
   "cell_type": "markdown",
   "id": "3d70e703",
   "metadata": {},
   "source": [
    "### Метод k-ближайших соседей"
   ]
  },
  {
   "cell_type": "code",
   "execution_count": 9,
   "id": "4c2cc3f9",
   "metadata": {},
   "outputs": [],
   "source": [
    "class KNN(BaseEstimator, ClassifierMixin):\n",
    "    \n",
    "    def __norm(self, x, y):\n",
    "        return np.sqrt(np.sum(np.square(x - y)))\n",
    "    \n",
    "    def __init__(self, **kwargs):\n",
    "        self.k = kwargs.get('k', 5)\n",
    "        self.data = None\n",
    "        \n",
    "    def predict(self, p):\n",
    "        result = []\n",
    "        for x in p:\n",
    "            self.data.sort(key = lambda t : self.__norm(t[0], x))\n",
    "            result.append(np.bincount(np.array([i[1] for i in self.data[:self.k]])).argmax())\n",
    "        return np.array(result)\n",
    "    \n",
    "    def predict_proba(self, p):\n",
    "        result = []\n",
    "        for x in p:\n",
    "            self.data.sort(key = lambda t : self.__norm(t[0], x))\n",
    "            res = np.bincount(np.array([i[1] for i in self.data[:self.k]]), minlength=2)[1] / self.k\n",
    "            result.append(res)\n",
    "        return np.array(result)\n",
    "    \n",
    "    def fit(self, Train_data, Train_labels):\n",
    "    \n",
    "        self.data = [(Train_data[i], Train_labels[i]) for i in range(len(Train_data))]\n",
    "        return self\n",
    "    \n",
    "    def get_params(self, deep=True):\n",
    "        return {\"k\": self.k}"
   ]
  },
  {
   "cell_type": "markdown",
   "id": "50ef94c2",
   "metadata": {},
   "source": [
    "### Наивный байесовский классификатор"
   ]
  },
  {
   "cell_type": "code",
   "execution_count": 10,
   "id": "3a7801e4",
   "metadata": {},
   "outputs": [],
   "source": [
    "class NBC(BaseEstimator, ClassifierMixin):\n",
    "    \n",
    "    def __init__(self):\n",
    "        self.P = {}\n",
    "        self.M = {}\n",
    "        self.D = {}\n",
    "        \n",
    "    def predict(self, p):\n",
    "        result = []\n",
    "        for x in p:\n",
    "            maxp, maxclass = None, None\n",
    "            for y in self.P.keys():\n",
    "                if (maxp == maxclass == None) or self._predict_proba(x, y) > maxp:\n",
    "                    maxp = self._predict_proba(x, y)\n",
    "                    maxclass = y\n",
    "                    \n",
    "            result.append(maxclass)\n",
    "        return np.array(result)\n",
    "    \n",
    "    def _predict_proba(self, x, y):\n",
    "        result = 1\n",
    "        \n",
    "        for i in range(len(x)):\n",
    "            result *= 1.0 / (np.sqrt(2*np.pi) * self.D[y][i]) * np.exp(- (x[i] - self.M[y][i])**2 / (2 * self.D[y][i]**2))\n",
    "        \n",
    "        return self.P[y] * result\n",
    "    \n",
    "    def predict_proba(self, p):\n",
    "        result = []\n",
    "        \n",
    "        for x in p:\n",
    "            maxp = None\n",
    "            for y in self.P.keys():\n",
    "                if (maxp ==  None) or self._predict_proba(x, y) > maxp:\n",
    "                    maxp = self._predict_proba(x, y)\n",
    "\n",
    "            result.append(self._predict_proba(x, 1) / (self._predict_proba(x, 0) + self._predict_proba(x, 1)))\n",
    "        return np.array(result)\n",
    "    \n",
    "    def fit(self, Train_data, Train_labels):\n",
    "        self.P = {i : sum(Train_labels == i) / len(Train_labels) for i in set(Train_labels)}\n",
    "\n",
    "        for i in self.P.keys():\n",
    "            acc = np.zeros_like(Train_data[0])\n",
    "            for j in range(len(Train_data)):\n",
    "                if Train_labels[j] == i:\n",
    "                    acc += Train_data[j]\n",
    "            acc /= sum(Train_labels == i)\n",
    "            self.M[i] = acc\n",
    "        \n",
    "        for i in self.P.keys():\n",
    "            acc = np.zeros_like(Train_data[0])\n",
    "            for j in range(len(Train_data)):\n",
    "                if Train_labels[j] == i:\n",
    "                    acc += np.square(Train_data[j] - self.M[i])\n",
    "            acc /= sum(Train_labels == i) - 1\n",
    "            self.D[i] = acc\n",
    "        \n",
    "        return self\n",
    "    \n",
    "    def get_params(self, deep=True):\n",
    "        return {\"P\": self.P, \"M\": self.M}"
   ]
  },
  {
   "cell_type": "code",
   "execution_count": 11,
   "id": "035d3323",
   "metadata": {},
   "outputs": [],
   "source": [
    "class BaggingClassifier(BaseEstimator, ClassifierMixin):\n",
    "    \n",
    "    def __init__(self, base_estimator, **kwargs):\n",
    "        self.n_estimators = kwargs.get('n_estimators', 10)\n",
    "        self.max_samples = kwargs.get('max_samples', 10)\n",
    "        self.pasting = kwargs.get('pasting', False)\n",
    "        self.models = [base_estimator for _ in range(self.n_estimators)]\n",
    "        \n",
    "    def fit(self, Train_data, Train_labels):\n",
    "        \n",
    "        for model in self.models:\n",
    "            if self.pasting:\n",
    "                random_indices = np.random.choice(len(Train_data), size=self.max_samples, replace=False)\n",
    "                mask = np.ones(len(Train_data), np.bool)\n",
    "                mask[random_indices] = 0\n",
    "                X, y = Train_data[random_indices, :], Train_labels[random_indices]\n",
    "                Train_data = Train_data[mask, :]\n",
    "                Train_labels = Train_labels[mask]\n",
    "            else:\n",
    "                random_indices = np.random.choice(len(Train_data), size=self.max_samples, replace=False)\n",
    "                X, y = Train_data[random_indices, :], Train_labels[random_indices]\n",
    "            model.fit(X, y)\n",
    "            \n",
    "        return self\n",
    "    \n",
    "    def predict(self, p):\n",
    "        predicts = []\n",
    "        for model in self.models:\n",
    "            predicts.append(model.predict(p))\n",
    "        return stats.mode(np.array(predicts)).mode[0]"
   ]
  },
  {
   "cell_type": "markdown",
   "id": "f5dfab1c",
   "metadata": {},
   "source": [
    "### Pasting"
   ]
  },
  {
   "cell_type": "code",
   "execution_count": 65,
   "id": "3f9a5623",
   "metadata": {},
   "outputs": [
    {
     "name": "stdout",
     "output_type": "stream",
     "text": [
      "Accuracy: 0.9083333333333333\n",
      "Recall: 0.9083333333333333\n",
      "Precision: 0.9225352112676056\n"
     ]
    },
    {
     "data": {
      "image/png": "[encoded data removed]",
      "text/plain": [
       "<Figure size 288x288 with 2 Axes>"
      ]
     },
     "metadata": {
      "needs_background": "light"
     },
     "output_type": "display_data"
    }
   ],
   "source": [
    "LM_ = Pipeline([\n",
    "    ('scaler', StandardScaler()),\n",
    "    ('selector', VarianceThreshold()),\n",
    "    ('classifier', LogitModel(a = 2, **data['LR']))\n",
    "])\n",
    "\n",
    "BC = BaggingClassifier(LM_, max_samples = 10, n_estimators = 11, pasting=True).fit(Train_data, Train_labels)\n",
    "MetricsEstimates(BC, Test_data, Test_labels)"
   ]
  },
  {
   "cell_type": "markdown",
   "id": "203cfe34",
   "metadata": {},
   "source": [
    "### Bagging"
   ]
  },
  {
   "cell_type": "code",
   "execution_count": 66,
   "id": "0256e208",
   "metadata": {},
   "outputs": [
    {
     "name": "stdout",
     "output_type": "stream",
     "text": [
      "Accuracy: 0.9166666666666666\n",
      "Recall: 0.9166666666666667\n",
      "Precision: 0.9285714285714286\n"
     ]
    },
    {
     "data": {
      "image/png": "[encoded data removed]",
      "text/plain": [
       "<Figure size 288x288 with 2 Axes>"
      ]
     },
     "metadata": {
      "needs_background": "light"
     },
     "output_type": "display_data"
    }
   ],
   "source": [
    "BC = BaggingClassifier(LM_, max_samples = 10, n_estimators = 11).fit(Train_data, Train_labels)\n",
    "MetricsEstimates(BC, Test_data, Test_labels)"
   ]
  },
  {
   "cell_type": "code",
   "execution_count": 14,
   "id": "83f4e928",
   "metadata": {},
   "outputs": [],
   "source": [
    "class StackingClassifier(BaseEstimator, ClassifierMixin):\n",
    "    \n",
    "    def __init__(self, estimators, **kwargs):\n",
    "        self.models = estimators\n",
    "        \n",
    "    def fit(self, Train_data, Train_labels):\n",
    "        \n",
    "        for model in self.models:\n",
    "            model.fit(Train_data, Train_labels)\n",
    "            \n",
    "        return self\n",
    "    \n",
    "    def predict(self, p):\n",
    "        predicts = []\n",
    "        for model in self.models:\n",
    "            predicts.append(model.predict(p))\n",
    "        return stats.mode(np.array(predicts)).mode[0]"
   ]
  },
  {
   "cell_type": "markdown",
   "id": "aad3c61a",
   "metadata": {},
   "source": [
    "### Stacking"
   ]
  },
  {
   "cell_type": "code",
   "execution_count": 43,
   "id": "5626411c",
   "metadata": {},
   "outputs": [
    {
     "name": "stdout",
     "output_type": "stream",
     "text": [
      "Accuracy: 0.9166666666666666\n",
      "Recall: 0.9166666666666666\n",
      "Precision: 0.9166666666666666\n"
     ]
    },
    {
     "data": {
      "image/png": "[encoded data removed]",
      "text/plain": [
       "<Figure size 288x288 with 2 Axes>"
      ]
     },
     "metadata": {
      "needs_background": "light"
     },
     "output_type": "display_data"
    }
   ],
   "source": [
    "SC = StackingClassifier([LM_, KNN(k=3), KNN(k=6)]).fit(Train_data, Train_labels)\n",
    "MetricsEstimates(SC, Test_data, Test_labels)"
   ]
  },
  {
   "cell_type": "code",
   "execution_count": 16,
   "id": "d201c910",
   "metadata": {},
   "outputs": [],
   "source": [
    "class VotingClassifier(BaseEstimator, ClassifierMixin):\n",
    "    \n",
    "    def __init__(self, estimators, **kwargs):\n",
    "        self.models = estimators\n",
    "        self.mode = kwargs.get('mode', 'hard')\n",
    "        if self.mode not in ['hard', 'soft']: self.mode = 'hard'\n",
    "        \n",
    "    def fit(self, Train_data, Train_labels):\n",
    "        \n",
    "        for model in self.models:\n",
    "            model.fit(Train_data, Train_labels)\n",
    "            \n",
    "        return self\n",
    "    \n",
    "    def predict(self, p):\n",
    "        \n",
    "        if self.mode == 'hard':\n",
    "            predicts = []\n",
    "            for model in self.models:\n",
    "                predicts.append(model.predict(p))\n",
    "            return stats.mode(np.array(predicts)).mode[0]\n",
    "        \n",
    "        predicts = None\n",
    "        for model in self.models:\n",
    "            if predicts is None:\n",
    "                predicts = model.predict_proba(p) / len(self.models)\n",
    "            else:\n",
    "                predicts += model.predict_proba(p) / len(self.models)\n",
    "        return (predicts >= 0.5)*1"
   ]
  },
  {
   "cell_type": "markdown",
   "id": "7a735a47",
   "metadata": {},
   "source": [
    "### Жёсткое и мягкое голосование"
   ]
  },
  {
   "cell_type": "code",
   "execution_count": 17,
   "id": "0e1f7daf",
   "metadata": {},
   "outputs": [
    {
     "name": "stdout",
     "output_type": "stream",
     "text": [
      "Accuracy: 0.8916666666666667\n",
      "Recall: 0.8916666666666666\n",
      "Precision: 0.8944055944055944\n"
     ]
    },
    {
     "data": {
      "image/png": "[encoded data removed]",
      "text/plain": [
       "<Figure size 288x288 with 2 Axes>"
      ]
     },
     "metadata": {
      "needs_background": "light"
     },
     "output_type": "display_data"
    },
    {
     "name": "stdout",
     "output_type": "stream",
     "text": [
      "Accuracy: 0.9\n",
      "Recall: 0.8999999999999999\n",
      "Precision: 0.904040404040404\n"
     ]
    },
    {
     "data": {
      "image/png": "[encoded data removed]",
      "text/plain": [
       "<Figure size 288x288 with 2 Axes>"
      ]
     },
     "metadata": {
      "needs_background": "light"
     },
     "output_type": "display_data"
    }
   ],
   "source": [
    "LM_ = Pipeline([\n",
    "    ('scaler', StandardScaler()),\n",
    "    ('selector', VarianceThreshold()),\n",
    "    ('classifier', LogitModel(a = 2, **data['LR']))\n",
    "])\n",
    "\n",
    "SVM_ = Pipeline([\n",
    "    ('scaler', StandardScaler()),\n",
    "    ('selector', VarianceThreshold()),\n",
    "    ('classifier', SVM())\n",
    "])\n",
    "\n",
    "NBC_ = Pipeline([\n",
    "    ('scaler', StandardScaler()),\n",
    "    ('selector', VarianceThreshold()),\n",
    "    ('classifier', NBC())\n",
    "])\n",
    "\n",
    "VC = VotingClassifier([LM_, SVM_, KNN(k=3), NBC_, KNN(k=4)]).fit(Train_data, Train_labels)\n",
    "MetricsEstimates(VC, Test_data, Test_labels)\n",
    "\n",
    "VC = VotingClassifier([LM_, SVM_, KNN(k=3), NBC_, KNN(k=4)], mode = 'soft').fit(Train_data, Train_labels)\n",
    "MetricsEstimates(VC, Test_data, Test_labels)"
   ]
  },
  {
   "cell_type": "code",
   "execution_count": 18,
   "id": "77e7aa07",
   "metadata": {},
   "outputs": [],
   "source": [
    "class DecisionTree(BaseEstimator, ClassifierMixin):\n",
    "    \n",
    "    def __init__(self, **kwargs):\n",
    "        \n",
    "        self.siglevel = kwargs.get('siglevel', 0.2)\n",
    "        self.tree = {}\n",
    "        self.count = 0\n",
    "        \n",
    "    def _gini(self, p):\n",
    "        return 4 * p * (1 - p)\n",
    "        \n",
    "    def fit(self, Train_data, Train_labels):\n",
    "        features = Train_data.shape[1]\n",
    "        \n",
    "        queue = [(0, Train_data, Train_labels, 0)]\n",
    "        \n",
    "        while queue:\n",
    "            idx, Td, Tl, cur_feature = queue.pop(0)\n",
    "            \n",
    "            Q = len(Td)\n",
    "            pq = np.sum(Tl == 0) / Q\n",
    "            if pq < self.siglevel or pq > 1 - self.siglevel:\n",
    "                self.tree[idx] = (None, None, Q, pq, None, None)\n",
    "                continue\n",
    "                \n",
    "            minimum = (2, None)\n",
    "            for x in Td[:, cur_feature]:\n",
    "                mask = Td[:, cur_feature] <= x\n",
    "                LTrain = Td[mask]\n",
    "                LTrainl = Tl[mask]\n",
    "                RTrain = Td[~mask]\n",
    "                RTrainl = Tl[~mask]\n",
    "\n",
    "                L, R = len(LTrainl), len(RTrainl)\n",
    "                pl, pr = np.sum(LTrainl == 0) / L, np.sum(RTrainl == 0) / R\n",
    "\n",
    "                Loss = (L/Q)*self._gini(pl) + (R/Q)*self._gini(pr)\n",
    "                if Loss < minimum[0]:\n",
    "                    minimum = (Loss, x)\n",
    "            \n",
    "            mask = Td[:, cur_feature] <= minimum[1]\n",
    "            LTrain = Td[mask]\n",
    "            LTrainl = Tl[mask]\n",
    "            RTrain = Td[~mask]\n",
    "            RTrainl = Tl[~mask]\n",
    "            \n",
    "            self.tree[idx] = (cur_feature, minimum[1], Q, pq, self.count + 1, self.count + 2)\n",
    "    \n",
    "            queue.append((self.count + 1, LTrain, LTrainl, (cur_feature + 1) % features))\n",
    "            queue.append((self.count + 2, RTrain, RTrainl, (cur_feature + 1) % features))\n",
    "            self.count += 2\n",
    "            cur_feature = (cur_feature + 1) % features\n",
    "        \n",
    "        return self\n",
    "    \n",
    "    def predict(self, p):\n",
    "        \n",
    "        result = []\n",
    "        \n",
    "        for x in p:\n",
    "            iterator = 0\n",
    "            head = self.tree[iterator]\n",
    "            \n",
    "            while not (head[0] is None):\n",
    "                if x[head[0]] <= head[1]:\n",
    "                    iterator = head[4]\n",
    "                else:\n",
    "                    iterator = head[5]\n",
    "                head = self.tree[iterator]\n",
    "            \n",
    "            result.append(1 if head[3] <= 0.5 else 0)\n",
    "        \n",
    "        return np.array(result)\n",
    "    \n",
    "    def predict_proba(self, p):\n",
    "        \n",
    "        result = []\n",
    "        \n",
    "        for x in p:\n",
    "            iterator = 0\n",
    "            head = self.tree[iterator]\n",
    "            \n",
    "            while not (head[0] is None):\n",
    "                if x[head[0]] <= head[1]:\n",
    "                    iterator = head[4]\n",
    "                else:\n",
    "                    iterator = head[5]\n",
    "                head = self.tree[iterator]\n",
    "            \n",
    "            result.append(1 - head[3])\n",
    "        \n",
    "        return np.array(result)"
   ]
  },
  {
   "cell_type": "markdown",
   "id": "e46c9239",
   "metadata": {},
   "source": [
    "### Решающее дерево"
   ]
  },
  {
   "cell_type": "code",
   "execution_count": 19,
   "id": "cc01161e",
   "metadata": {
    "scrolled": false
   },
   "outputs": [
    {
     "name": "stdout",
     "output_type": "stream",
     "text": [
      "Accuracy: 0.925\n",
      "Recall: 0.925\n",
      "Precision: 0.9308645451985356\n"
     ]
    },
    {
     "data": {
      "image/png": "[encoded data removed]",
      "text/plain": [
       "<Figure size 288x288 with 2 Axes>"
      ]
     },
     "metadata": {
      "needs_background": "light"
     },
     "output_type": "display_data"
    }
   ],
   "source": [
    "DT = DecisionTree(siglevel = 0.1).fit(Train_data, Train_labels)\n",
    "MetricsEstimates(DT, Test_data, Test_labels)"
   ]
  },
  {
   "cell_type": "code",
   "execution_count": 20,
   "id": "bc65a2b3",
   "metadata": {},
   "outputs": [
    {
     "data": {
      "text/plain": [
       "{0: (0, 8.17244681834278, 120, 0.5, 1, 2),\n",
       " 1: (1, 10.7, 42, 0.8809523809523809, 3, 4),\n",
       " 2: (1, 10.07, 78, 0.2948717948717949, 5, 6),\n",
       " 3: (None, None, 4, 0.0, None, None),\n",
       " 4: (None, None, 38, 0.9736842105263158, None, None),\n",
       " 5: (None, None, 48, 0.0, None, None),\n",
       " 6: (0, 8.297792626380861, 30, 0.7666666666666667, 7, 8),\n",
       " 7: (1, 10.69, 9, 0.3333333333333333, 9, 10),\n",
       " 8: (None, None, 21, 0.9523809523809523, None, None),\n",
       " 9: (None, None, 2, 1.0, None, None),\n",
       " 10: (0, 8.188133414510478, 7, 0.14285714285714285, 11, 12),\n",
       " 11: (None, None, 1, 1.0, None, None),\n",
       " 12: (None, None, 6, 0.0, None, None)}"
      ]
     },
     "execution_count": 20,
     "metadata": {},
     "output_type": "execute_result"
    }
   ],
   "source": [
    "DT.tree"
   ]
  },
  {
   "cell_type": "code",
   "execution_count": 21,
   "id": "582b08f0",
   "metadata": {},
   "outputs": [
    {
     "data": {
      "image/png": "[encoded data removed]",
      "text/plain": [
       "<Figure size 576x576 with 1 Axes>"
      ]
     },
     "metadata": {
      "needs_background": "light"
     },
     "output_type": "display_data"
    }
   ],
   "source": [
    "nbc = DecisionTree(depth = 2).fit(Train_data, Train_labels)\n",
    "fig = plt.figure(figsize=(8, 8))\n",
    "ax = fig.add_subplot()\n",
    "\n",
    "for a, b in [(i, i) for i in range(2)]:\n",
    "    S = Test[(Test['Star type'] <= b) & (Test['Star type'] >= a)]\n",
    "\n",
    "    ax.scatter(S['Temperature (K)'], S['Absolute magnitude(Mv)'], label=f\"{a}\")\n",
    "    \n",
    "for x in np.arange(5, 15, 0.16):\n",
    "    for y in np.arange(0, 20, 0.3):\n",
    "        a = nbc.predict(np.array([[x, y]]))\n",
    "        ax.plot([x], [y], '.', color = 'purple' if a == 0 else 'red')\n",
    "        \n",
    "plt.show()"
   ]
  },
  {
   "cell_type": "markdown",
   "id": "d4601bc9",
   "metadata": {},
   "source": [
    "#### Втроенная реализация"
   ]
  },
  {
   "cell_type": "code",
   "execution_count": 27,
   "id": "6274331b",
   "metadata": {},
   "outputs": [
    {
     "name": "stdout",
     "output_type": "stream",
     "text": [
      "Accuracy: 0.925\n",
      "Recall: 0.925\n",
      "Precision: 0.927972027972028\n"
     ]
    },
    {
     "data": {
      "image/png": "[encoded data removed]",
      "text/plain": [
       "<Figure size 288x288 with 2 Axes>"
      ]
     },
     "metadata": {
      "needs_background": "light"
     },
     "output_type": "display_data"
    }
   ],
   "source": [
    "DT = tree.DecisionTreeClassifier(criterion=\"entropy\", max_depth = 5).fit(Train_data, Train_labels)\n",
    "MetricsEstimates(DT, Test_data, Test_labels)"
   ]
  },
  {
   "cell_type": "code",
   "execution_count": 28,
   "id": "a790631c",
   "metadata": {},
   "outputs": [
    {
     "data": {
      "image/png": "[encoded data removed]",
      "text/plain": [
       "<Figure size 720x720 with 1 Axes>"
      ]
     },
     "metadata": {
      "needs_background": "light"
     },
     "output_type": "display_data"
    }
   ],
   "source": [
    "plt.figure(figsize=(10,10))\n",
    "tree.plot_tree(DT)\n",
    "plt.show()"
   ]
  },
  {
   "cell_type": "markdown",
   "id": "b7504e00",
   "metadata": {},
   "source": [
    "### Случайный лес"
   ]
  },
  {
   "cell_type": "code",
   "execution_count": 92,
   "id": "ba77faf9",
   "metadata": {
    "scrolled": false
   },
   "outputs": [
    {
     "name": "stdout",
     "output_type": "stream",
     "text": [
      "Accuracy: 0.9333333333333333\n",
      "Recall: 0.9333333333333333\n",
      "Precision: 0.9338153503893214\n"
     ]
    },
    {
     "data": {
      "image/png": "[encoded data removed]",
      "text/plain": [
       "<Figure size 288x288 with 2 Axes>"
      ]
     },
     "metadata": {
      "needs_background": "light"
     },
     "output_type": "display_data"
    }
   ],
   "source": [
    "DT_ = Pipeline([\n",
    "    ('scaler', StandardScaler()),\n",
    "    ('selector', VarianceThreshold()),\n",
    "    ('classifier', DecisionTree(siglevel = 0.1))\n",
    "])\n",
    "\n",
    "BC = BaggingClassifier(DT_, max_samples = 50, n_estimators = 5).fit(Train_data, Train_labels)\n",
    "MetricsEstimates(BC, Test_data, Test_labels)"
   ]
  },
  {
   "cell_type": "markdown",
   "id": "7d813317",
   "metadata": {},
   "source": [
    "### Gradient Boosting"
   ]
  },
  {
   "cell_type": "code",
   "execution_count": 75,
   "id": "46742a49",
   "metadata": {},
   "outputs": [],
   "source": [
    "GBC = ensemble.GradientBoostingClassifier(n_estimators=100, learning_rate= 1.0, max_depth=1).fit(Train_data, Train_labels)"
   ]
  },
  {
   "cell_type": "code",
   "execution_count": 76,
   "id": "5d2b58ad",
   "metadata": {},
   "outputs": [
    {
     "name": "stdout",
     "output_type": "stream",
     "text": [
      "Accuracy: 0.9333333333333333\n",
      "Recall: 0.9333333333333333\n",
      "Precision: 0.9338153503893214\n"
     ]
    },
    {
     "data": {
      "image/png": "[encoded data removed]",
      "text/plain": [
       "<Figure size 288x288 with 2 Axes>"
      ]
     },
     "metadata": {
      "needs_background": "light"
     },
     "output_type": "display_data"
    }
   ],
   "source": [
    "MetricsEstimates(GBC, Test_data, Test_labels)"
   ]
  },
  {
   "cell_type": "code",
   "execution_count": null,
   "id": "61a969b8",
   "metadata": {},
   "outputs": [],
   "source": []
  }
 ],
 "metadata": {
  "kernelspec": {
   "display_name": "Python 3 (ipykernel)",
   "language": "python",
   "name": "python3"
  },
  "language_info": {
   "codemirror_mode": {
    "name": "ipython",
    "version": 3
   },
   "file_extension": ".py",
   "mimetype": "text/x-python",
   "name": "python",
   "nbconvert_exporter": "python",
   "pygments_lexer": "ipython3",
   "version": "3.10.0"
  }
 },
 "nbformat": 4,
 "nbformat_minor": 5
}
